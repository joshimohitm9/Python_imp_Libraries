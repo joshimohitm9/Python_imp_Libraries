{
  "nbformat": 4,
  "nbformat_minor": 0,
  "metadata": {
    "colab": {
      "provenance": [],
      "authorship_tag": "ABX9TyNJSZXDAr3MKi/k5P1SPBOc",
      "include_colab_link": true
    },
    "kernelspec": {
      "name": "python3",
      "display_name": "Python 3"
    },
    "language_info": {
      "name": "python"
    }
  },
  "cells": [
    {
      "cell_type": "markdown",
      "metadata": {
        "id": "view-in-github",
        "colab_type": "text"
      },
      "source": [
        "<a href=\"https://colab.research.google.com/github/joshimohitm9/Python_imp_Libraries/blob/main/Numpy_part_2.ipynb\" target=\"_parent\"><img src=\"https://colab.research.google.com/assets/colab-badge.svg\" alt=\"Open In Colab\"/></a>"
      ]
    },
    {
      "cell_type": "code",
      "source": [
        "# importing library\n",
        "import numpy as np"
      ],
      "metadata": {
        "id": "D6ekfTX8ivrQ"
      },
      "execution_count": 1,
      "outputs": []
    },
    {
      "cell_type": "code",
      "source": [
        "a=np.array([1,2,3,4])\n",
        "a"
      ],
      "metadata": {
        "id": "Vt85nUE-iz97",
        "colab": {
          "base_uri": "https://localhost:8080/"
        },
        "outputId": "bea7861f-3c0a-49b2-ac03-51ca14663a95"
      },
      "execution_count": 2,
      "outputs": [
        {
          "output_type": "execute_result",
          "data": {
            "text/plain": [
              "array([1, 2, 3, 4])"
            ]
          },
          "metadata": {},
          "execution_count": 2
        }
      ]
    },
    {
      "cell_type": "code",
      "source": [
        "a.dtype"
      ],
      "metadata": {
        "colab": {
          "base_uri": "https://localhost:8080/"
        },
        "id": "9ucoG9xHi3At",
        "outputId": "1040e6cd-c298-471d-cf8c-3e2ea1f0e3d8"
      },
      "execution_count": 3,
      "outputs": [
        {
          "output_type": "execute_result",
          "data": {
            "text/plain": [
              "dtype('int64')"
            ]
          },
          "metadata": {},
          "execution_count": 3
        }
      ]
    },
    {
      "cell_type": "code",
      "source": [
        "# Numpy with 4d\n",
        "a=np.array([1,2,3,4],ndmin=4)\n",
        "a"
      ],
      "metadata": {
        "id": "yNV2mVpEi5Qi",
        "colab": {
          "base_uri": "https://localhost:8080/"
        },
        "outputId": "0fc1c23c-b837-48e2-ad46-cdcc41883b54"
      },
      "execution_count": 4,
      "outputs": [
        {
          "output_type": "execute_result",
          "data": {
            "text/plain": [
              "array([[[[1, 2, 3, 4]]]])"
            ]
          },
          "metadata": {},
          "execution_count": 4
        }
      ]
    },
    {
      "cell_type": "code",
      "source": [
        "a=np.ones((3,3))\n",
        "a"
      ],
      "metadata": {
        "id": "IZ5Qf4yIjeU4",
        "colab": {
          "base_uri": "https://localhost:8080/"
        },
        "outputId": "c715ac99-8c70-40de-98c9-b473fa0cf3e2"
      },
      "execution_count": 5,
      "outputs": [
        {
          "output_type": "execute_result",
          "data": {
            "text/plain": [
              "array([[1., 1., 1.],\n",
              "       [1., 1., 1.],\n",
              "       [1., 1., 1.]])"
            ]
          },
          "metadata": {},
          "execution_count": 5
        }
      ]
    },
    {
      "cell_type": "code",
      "source": [
        "a=np.zeros((3,3))\n",
        "a"
      ],
      "metadata": {
        "id": "awekuQNalMU2",
        "colab": {
          "base_uri": "https://localhost:8080/"
        },
        "outputId": "0cb53e70-e1b0-4643-97cc-b5375ff41b67"
      },
      "execution_count": 6,
      "outputs": [
        {
          "output_type": "execute_result",
          "data": {
            "text/plain": [
              "array([[0., 0., 0.],\n",
              "       [0., 0., 0.],\n",
              "       [0., 0., 0.]])"
            ]
          },
          "metadata": {},
          "execution_count": 6
        }
      ]
    },
    {
      "cell_type": "code",
      "source": [
        "# dingonals are 1\n",
        "a=np.identity((5))\n",
        "a"
      ],
      "metadata": {
        "id": "ydjt_o2GlRaV",
        "colab": {
          "base_uri": "https://localhost:8080/"
        },
        "outputId": "e9cf9f67-14d5-4040-c72d-e08589d12211"
      },
      "execution_count": 7,
      "outputs": [
        {
          "output_type": "execute_result",
          "data": {
            "text/plain": [
              "array([[1., 0., 0., 0., 0.],\n",
              "       [0., 1., 0., 0., 0.],\n",
              "       [0., 0., 1., 0., 0.],\n",
              "       [0., 0., 0., 1., 0.],\n",
              "       [0., 0., 0., 0., 1.]])"
            ]
          },
          "metadata": {},
          "execution_count": 7
        }
      ]
    },
    {
      "cell_type": "code",
      "source": [
        "# similat to the np.idnetify()\n",
        "a=np.eye((3))\n",
        "a"
      ],
      "metadata": {
        "id": "WXWffVoQlZDr",
        "colab": {
          "base_uri": "https://localhost:8080/"
        },
        "outputId": "d4b5959b-b934-406e-aa46-2986c4687843"
      },
      "execution_count": 8,
      "outputs": [
        {
          "output_type": "execute_result",
          "data": {
            "text/plain": [
              "array([[1., 0., 0.],\n",
              "       [0., 1., 0.],\n",
              "       [0., 0., 1.]])"
            ]
          },
          "metadata": {},
          "execution_count": 8
        }
      ]
    },
    {
      "cell_type": "code",
      "source": [
        "# 3d array\n",
        "a=np.array([[1,2,3,4],\n",
        "            [2,3,4,5],\n",
        "            [3,4,5,6]])\n",
        "a"
      ],
      "metadata": {
        "id": "wRMRt-rgljcz",
        "colab": {
          "base_uri": "https://localhost:8080/"
        },
        "outputId": "1ef02f1c-e7b9-4488-96b6-46900e0bc4e9"
      },
      "execution_count": 9,
      "outputs": [
        {
          "output_type": "execute_result",
          "data": {
            "text/plain": [
              "array([[1, 2, 3, 4],\n",
              "       [2, 3, 4, 5],\n",
              "       [3, 4, 5, 6]])"
            ]
          },
          "metadata": {},
          "execution_count": 9
        }
      ]
    },
    {
      "cell_type": "code",
      "source": [
        "b=np.arange((23))\n",
        "b"
      ],
      "metadata": {
        "id": "RgUXKNu5l2kP",
        "colab": {
          "base_uri": "https://localhost:8080/"
        },
        "outputId": "4434f0c2-d4ed-45b3-d1d7-11a257c6e710"
      },
      "execution_count": 10,
      "outputs": [
        {
          "output_type": "execute_result",
          "data": {
            "text/plain": [
              "array([ 0,  1,  2,  3,  4,  5,  6,  7,  8,  9, 10, 11, 12, 13, 14, 15, 16,\n",
              "       17, 18, 19, 20, 21, 22])"
            ]
          },
          "metadata": {},
          "execution_count": 10
        }
      ]
    },
    {
      "cell_type": "code",
      "source": [
        "b.ravel()"
      ],
      "metadata": {
        "colab": {
          "base_uri": "https://localhost:8080/"
        },
        "id": "pB0M6OTZl8kX",
        "outputId": "394621c1-f434-4203-cf45-3ea724c93ef3"
      },
      "execution_count": 11,
      "outputs": [
        {
          "output_type": "execute_result",
          "data": {
            "text/plain": [
              "array([ 0,  1,  2,  3,  4,  5,  6,  7,  8,  9, 10, 11, 12, 13, 14, 15, 16,\n",
              "       17, 18, 19, 20, 21, 22])"
            ]
          },
          "metadata": {},
          "execution_count": 11
        }
      ]
    },
    {
      "cell_type": "code",
      "source": [
        "a"
      ],
      "metadata": {
        "colab": {
          "base_uri": "https://localhost:8080/"
        },
        "id": "fXj5HDCRmE2U",
        "outputId": "589acc5a-dc7d-41d4-a702-89bc273720c5"
      },
      "execution_count": 12,
      "outputs": [
        {
          "output_type": "execute_result",
          "data": {
            "text/plain": [
              "array([[1, 2, 3, 4],\n",
              "       [2, 3, 4, 5],\n",
              "       [3, 4, 5, 6]])"
            ]
          },
          "metadata": {},
          "execution_count": 12
        }
      ]
    },
    {
      "cell_type": "code",
      "source": [
        "# value at (row,columns) = (1,1)\n",
        "print(\"Value at row = 1 and column= 1 is : \",a[1,1])"
      ],
      "metadata": {
        "colab": {
          "base_uri": "https://localhost:8080/"
        },
        "id": "WEYlQmHqmL_9",
        "outputId": "e9057754-b7ad-41c7-9eba-04c431f36816"
      },
      "execution_count": 13,
      "outputs": [
        {
          "output_type": "stream",
          "name": "stdout",
          "text": [
            "Value at row = 1 and column= 1 is :  3\n"
          ]
        }
      ]
    },
    {
      "cell_type": "code",
      "source": [
        "x=a[2,2]=6\n",
        "print(\"the changed value at at row = 2 and column= 2 is :\",x)\n",
        "a"
      ],
      "metadata": {
        "colab": {
          "base_uri": "https://localhost:8080/"
        },
        "id": "O5Kbm6zFK5M-",
        "outputId": "3a7fd9a5-2572-41d6-9434-342c64b8baec"
      },
      "execution_count": 14,
      "outputs": [
        {
          "output_type": "stream",
          "name": "stdout",
          "text": [
            "the changed value at at row = 2 and column= 2 is : 6\n"
          ]
        },
        {
          "output_type": "execute_result",
          "data": {
            "text/plain": [
              "array([[1, 2, 3, 4],\n",
              "       [2, 3, 4, 5],\n",
              "       [3, 4, 6, 6]])"
            ]
          },
          "metadata": {},
          "execution_count": 14
        }
      ]
    },
    {
      "cell_type": "code",
      "source": [
        "a=np.linspace(1,5,6)\n",
        "a"
      ],
      "metadata": {
        "id": "1ohvlEtmmfvQ",
        "colab": {
          "base_uri": "https://localhost:8080/"
        },
        "outputId": "6b16196a-f528-45ec-fef6-168617ec2d96"
      },
      "execution_count": 15,
      "outputs": [
        {
          "output_type": "execute_result",
          "data": {
            "text/plain": [
              "array([1. , 1.8, 2.6, 3.4, 4.2, 5. ])"
            ]
          },
          "metadata": {},
          "execution_count": 15
        }
      ]
    },
    {
      "cell_type": "code",
      "source": [
        "a=np.empty((3,3))\n",
        "a"
      ],
      "metadata": {
        "id": "fp3jrgaMmx96",
        "colab": {
          "base_uri": "https://localhost:8080/"
        },
        "outputId": "05838f76-b8ff-4ad5-94c0-3bb36dfc75e8"
      },
      "execution_count": 16,
      "outputs": [
        {
          "output_type": "execute_result",
          "data": {
            "text/plain": [
              "array([[1., 0., 0.],\n",
              "       [0., 1., 0.],\n",
              "       [0., 0., 1.]])"
            ]
          },
          "metadata": {},
          "execution_count": 16
        }
      ]
    },
    {
      "cell_type": "code",
      "source": [
        "a=np.array([[1,2,3,4,5,6],\n",
        "            [2,3,4,8,6,7],\n",
        "            [1,2,3,4,5,6]])\n",
        "a"
      ],
      "metadata": {
        "colab": {
          "base_uri": "https://localhost:8080/"
        },
        "id": "GlVF53CknH_I",
        "outputId": "029964b0-8cd4-4c65-ecf9-2e9a5f7ef45e"
      },
      "execution_count": 17,
      "outputs": [
        {
          "output_type": "execute_result",
          "data": {
            "text/plain": [
              "array([[1, 2, 3, 4, 5, 6],\n",
              "       [2, 3, 4, 8, 6, 7],\n",
              "       [1, 2, 3, 4, 5, 6]])"
            ]
          },
          "metadata": {},
          "execution_count": 17
        }
      ]
    },
    {
      "cell_type": "code",
      "source": [
        "print(\"index of maximum value :\",a.argmax())\n",
        "print(\"index of minimum value :\",a.argmin())\n",
        "print(\"Maximum Value :\",a.min())\n",
        "print(\"Minimum Value :\",a.max())"
      ],
      "metadata": {
        "colab": {
          "base_uri": "https://localhost:8080/"
        },
        "id": "fipx6Benm5Pc",
        "outputId": "3bdd2a1e-e374-4f52-e4f5-4d88da1a8ce7"
      },
      "execution_count": 18,
      "outputs": [
        {
          "output_type": "stream",
          "name": "stdout",
          "text": [
            "index of maximum value : 9\n",
            "index of minimum value : 0\n",
            "Maximum Value : 1\n",
            "Minimum Value : 8\n"
          ]
        }
      ]
    },
    {
      "cell_type": "code",
      "source": [
        "a=np.array([1,2,3,4,5,6,7],ndmin=3)\n",
        "print(\"Dimension of the array :\",a.ndim)\n",
        "print(\"Array is :\",a)"
      ],
      "metadata": {
        "colab": {
          "base_uri": "https://localhost:8080/"
        },
        "id": "YddIZ5kUoi_H",
        "outputId": "a2242656-ac40-447e-ebab-13ed6795a15b"
      },
      "execution_count": 19,
      "outputs": [
        {
          "output_type": "stream",
          "name": "stdout",
          "text": [
            "Dimension of the array : 3\n",
            "Array is : [[[1 2 3 4 5 6 7]]]\n"
          ]
        }
      ]
    },
    {
      "cell_type": "code",
      "source": [
        "a=np.array([1,2,3,4,5,6,7,8,9])\n",
        "a"
      ],
      "metadata": {
        "id": "2jk-9DD1r3XS",
        "colab": {
          "base_uri": "https://localhost:8080/"
        },
        "outputId": "ed250224-99c5-4f66-dff8-5f561db13ec8"
      },
      "execution_count": 20,
      "outputs": [
        {
          "output_type": "execute_result",
          "data": {
            "text/plain": [
              "array([1, 2, 3, 4, 5, 6, 7, 8, 9])"
            ]
          },
          "metadata": {},
          "execution_count": 20
        }
      ]
    },
    {
      "cell_type": "code",
      "source": [
        "print(a[1:3])"
      ],
      "metadata": {
        "colab": {
          "base_uri": "https://localhost:8080/"
        },
        "id": "nB11-VJgsaoe",
        "outputId": "9346ad1c-5def-4c5c-b8af-d960fc738733"
      },
      "execution_count": 21,
      "outputs": [
        {
          "output_type": "stream",
          "name": "stdout",
          "text": [
            "[2 3]\n"
          ]
        }
      ]
    },
    {
      "cell_type": "code",
      "source": [
        "print(a[2:9:2])"
      ],
      "metadata": {
        "colab": {
          "base_uri": "https://localhost:8080/"
        },
        "id": "1yGwy4P5siWn",
        "outputId": "0d062561-b8e1-489c-80ec-032c58b1269e"
      },
      "execution_count": 22,
      "outputs": [
        {
          "output_type": "stream",
          "name": "stdout",
          "text": [
            "[3 5 7 9]\n"
          ]
        }
      ]
    },
    {
      "cell_type": "code",
      "source": [
        "# ndmin used to create the dimention of the array\n",
        "a=np.array([1,2,3,4],ndmin=2)\n",
        "\n",
        "# slicing\n",
        "print(a[0,1:3])"
      ],
      "metadata": {
        "id": "RQCqh-PcstlB",
        "colab": {
          "base_uri": "https://localhost:8080/"
        },
        "outputId": "6f7bcc64-ff4d-40a3-ffea-32ba24fa41bd"
      },
      "execution_count": 23,
      "outputs": [
        {
          "output_type": "stream",
          "name": "stdout",
          "text": [
            "[2 3]\n"
          ]
        }
      ]
    },
    {
      "cell_type": "code",
      "source": [
        "a.shape"
      ],
      "metadata": {
        "colab": {
          "base_uri": "https://localhost:8080/"
        },
        "id": "MZorA8bxteob",
        "outputId": "8610a06b-3523-4857-a7a5-1973d9a2b436"
      },
      "execution_count": 24,
      "outputs": [
        {
          "output_type": "execute_result",
          "data": {
            "text/plain": [
              "(1, 4)"
            ]
          },
          "metadata": {},
          "execution_count": 24
        }
      ]
    },
    {
      "cell_type": "code",
      "source": [
        "a.size"
      ],
      "metadata": {
        "colab": {
          "base_uri": "https://localhost:8080/"
        },
        "id": "-jLq8sm0tNYI",
        "outputId": "bae46784-6452-4ad1-97f5-f0eaecf3e575"
      },
      "execution_count": 25,
      "outputs": [
        {
          "output_type": "execute_result",
          "data": {
            "text/plain": [
              "4"
            ]
          },
          "metadata": {},
          "execution_count": 25
        }
      ]
    },
    {
      "cell_type": "code",
      "source": [
        "# concate all the values\n",
        "a=np.array([1,2,3,4])\n",
        "b=np.array([2,3,4,5])\n",
        "c=np.concatenate((a,b))\n",
        "print(c)"
      ],
      "metadata": {
        "id": "n_OJpOL7tiFJ",
        "colab": {
          "base_uri": "https://localhost:8080/"
        },
        "outputId": "cca6f271-65c3-4ab3-f85d-7e432f931a81"
      },
      "execution_count": 26,
      "outputs": [
        {
          "output_type": "stream",
          "name": "stdout",
          "text": [
            "[1 2 3 4 2 3 4 5]\n"
          ]
        }
      ]
    },
    {
      "cell_type": "code",
      "source": [
        "# provide u only unique values\n",
        "a=np.unique(c)\n",
        "print(a)"
      ],
      "metadata": {
        "id": "XWKC0BzZt0RY",
        "colab": {
          "base_uri": "https://localhost:8080/"
        },
        "outputId": "1d1619a5-eaee-4590-af07-69399efd689b"
      },
      "execution_count": 27,
      "outputs": [
        {
          "output_type": "stream",
          "name": "stdout",
          "text": [
            "[1 2 3 4 5]\n"
          ]
        }
      ]
    }
  ]
}