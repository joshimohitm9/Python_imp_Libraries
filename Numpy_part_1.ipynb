{
  "nbformat": 4,
  "nbformat_minor": 0,
  "metadata": {
    "colab": {
      "provenance": [],
      "authorship_tag": "ABX9TyMWvppV6x4nfzIu35kZ/V2T",
      "include_colab_link": true
    },
    "kernelspec": {
      "name": "python3",
      "display_name": "Python 3"
    },
    "language_info": {
      "name": "python"
    }
  },
  "cells": [
    {
      "cell_type": "markdown",
      "metadata": {
        "id": "view-in-github",
        "colab_type": "text"
      },
      "source": [
        "<a href=\"https://colab.research.google.com/github/joshimohitm9/Python_imp_Libraries/blob/main/Numpy_part_1.ipynb\" target=\"_parent\"><img src=\"https://colab.research.google.com/assets/colab-badge.svg\" alt=\"Open In Colab\"/></a>"
      ]
    },
    {
      "cell_type": "code",
      "execution_count": 1,
      "metadata": {
        "id": "gcX9NCjtkRek"
      },
      "outputs": [],
      "source": [
        "import numpy as np"
      ]
    },
    {
      "cell_type": "code",
      "source": [
        "# creting one dimentionl array\n",
        "a=np.array([1,2,36,4,5],np.int8)"
      ],
      "metadata": {
        "id": "kjQJN-F4kXWK"
      },
      "execution_count": 2,
      "outputs": []
    },
    {
      "cell_type": "code",
      "source": [
        "print(type(a))"
      ],
      "metadata": {
        "colab": {
          "base_uri": "https://localhost:8080/"
        },
        "id": "ulXWHewOnOIB",
        "outputId": "af3c1774-aac6-4eff-9887-a483c230a957"
      },
      "execution_count": 3,
      "outputs": [
        {
          "output_type": "stream",
          "name": "stdout",
          "text": [
            "<class 'numpy.ndarray'>\n"
          ]
        }
      ]
    },
    {
      "cell_type": "code",
      "source": [
        "# dtype of numpy array\n",
        "a"
      ],
      "metadata": {
        "colab": {
          "base_uri": "https://localhost:8080/"
        },
        "id": "7SULruo1nPx5",
        "outputId": "796cb425-76d9-417a-ab08-945aeac0e3d6"
      },
      "execution_count": 4,
      "outputs": [
        {
          "output_type": "execute_result",
          "data": {
            "text/plain": [
              "array([ 1,  2, 36,  4,  5], dtype=int8)"
            ]
          },
          "metadata": {},
          "execution_count": 4
        }
      ]
    },
    {
      "cell_type": "code",
      "source": [
        "# fetching the value with index number 4\n",
        "a[4]"
      ],
      "metadata": {
        "colab": {
          "base_uri": "https://localhost:8080/"
        },
        "id": "ztw9LzX1nXkX",
        "outputId": "29be87de-3df4-4a4b-c1d2-d0bf2f0b7e64"
      },
      "execution_count": 5,
      "outputs": [
        {
          "output_type": "execute_result",
          "data": {
            "text/plain": [
              "5"
            ]
          },
          "metadata": {},
          "execution_count": 5
        }
      ]
    },
    {
      "cell_type": "code",
      "source": [
        "a[2]"
      ],
      "metadata": {
        "colab": {
          "base_uri": "https://localhost:8080/"
        },
        "id": "ha4wA1ktn656",
        "outputId": "1fb346d0-8499-427d-9d4a-45b291ed91c8"
      },
      "execution_count": 6,
      "outputs": [
        {
          "output_type": "execute_result",
          "data": {
            "text/plain": [
              "36"
            ]
          },
          "metadata": {},
          "execution_count": 6
        }
      ]
    },
    {
      "cell_type": "code",
      "source": [
        "# show you the number of rows and columns\n",
        "a.shape"
      ],
      "metadata": {
        "colab": {
          "base_uri": "https://localhost:8080/"
        },
        "id": "smpuzAiyo8Ff",
        "outputId": "dd3251b0-757b-4ceb-d5ac-8b111f2daafc"
      },
      "execution_count": 7,
      "outputs": [
        {
          "output_type": "execute_result",
          "data": {
            "text/plain": [
              "(5,)"
            ]
          },
          "metadata": {},
          "execution_count": 7
        }
      ]
    },
    {
      "cell_type": "code",
      "source": [
        "a.size"
      ],
      "metadata": {
        "colab": {
          "base_uri": "https://localhost:8080/"
        },
        "id": "SNS4Ikv_n8_c",
        "outputId": "6776d1e0-85b1-41e0-fcd1-3a3202474943"
      },
      "execution_count": 8,
      "outputs": [
        {
          "output_type": "execute_result",
          "data": {
            "text/plain": [
              "5"
            ]
          },
          "metadata": {},
          "execution_count": 8
        }
      ]
    },
    {
      "cell_type": "code",
      "source": [
        "# data type is int\n",
        "a.dtype"
      ],
      "metadata": {
        "colab": {
          "base_uri": "https://localhost:8080/"
        },
        "id": "j3TODsFepHka",
        "outputId": "b7c8a4b7-b0aa-4c10-c81a-ec92038ab4bf"
      },
      "execution_count": 9,
      "outputs": [
        {
          "output_type": "execute_result",
          "data": {
            "text/plain": [
              "dtype('int8')"
            ]
          },
          "metadata": {},
          "execution_count": 9
        }
      ]
    },
    {
      "cell_type": "code",
      "source": [
        "# changing the value of array at the index number 2\n",
        "a[2]=3\n",
        "a"
      ],
      "metadata": {
        "id": "NsLPKL7CpvMb",
        "colab": {
          "base_uri": "https://localhost:8080/"
        },
        "outputId": "cc3e4515-4eaa-41c6-ea79-0a39f7355f7d"
      },
      "execution_count": 10,
      "outputs": [
        {
          "output_type": "execute_result",
          "data": {
            "text/plain": [
              "array([1, 2, 3, 4, 5], dtype=int8)"
            ]
          },
          "metadata": {},
          "execution_count": 10
        }
      ]
    },
    {
      "cell_type": "code",
      "source": [
        "# creating 2 dimentional array\n",
        "b=np.array([[1,2,3]])\n",
        "b"
      ],
      "metadata": {
        "id": "ryRkivkApzLr",
        "colab": {
          "base_uri": "https://localhost:8080/"
        },
        "outputId": "782ef45b-8c9d-4e4c-a21c-0cbb2f79ea24"
      },
      "execution_count": 11,
      "outputs": [
        {
          "output_type": "execute_result",
          "data": {
            "text/plain": [
              "array([[1, 2, 3]])"
            ]
          },
          "metadata": {},
          "execution_count": 11
        }
      ]
    },
    {
      "cell_type": "code",
      "source": [
        "shape=b.shape\n",
        "print(\" no of Rows\",shape[0])\n",
        "print(\"no of Coumns\",shape[1])"
      ],
      "metadata": {
        "colab": {
          "base_uri": "https://localhost:8080/"
        },
        "id": "vp4C9YXRqyWQ",
        "outputId": "e0a307c8-af48-4bb5-b62d-ba839e15e926"
      },
      "execution_count": 12,
      "outputs": [
        {
          "output_type": "stream",
          "name": "stdout",
          "text": [
            " no of Rows 1\n",
            "no of Coumns 3\n"
          ]
        }
      ]
    },
    {
      "cell_type": "code",
      "source": [
        "b.dtype"
      ],
      "metadata": {
        "colab": {
          "base_uri": "https://localhost:8080/"
        },
        "id": "SgLSjfZ9q5al",
        "outputId": "2e475a3a-7558-4ece-9332-80726b316786"
      },
      "execution_count": 13,
      "outputs": [
        {
          "output_type": "execute_result",
          "data": {
            "text/plain": [
              "dtype('int64')"
            ]
          },
          "metadata": {},
          "execution_count": 13
        }
      ]
    },
    {
      "cell_type": "code",
      "source": [
        "# numpy array with 0 row and 1 column\n",
        "b[0,1]"
      ],
      "metadata": {
        "colab": {
          "base_uri": "https://localhost:8080/"
        },
        "id": "r8y_gVQDrByd",
        "outputId": "f4346365-ea47-4af3-b51e-852140bf91c5"
      },
      "execution_count": 14,
      "outputs": [
        {
          "output_type": "execute_result",
          "data": {
            "text/plain": [
              "2"
            ]
          },
          "metadata": {},
          "execution_count": 14
        }
      ]
    },
    {
      "cell_type": "code",
      "source": [
        "# chnaging the value of numpy array of 0 row and 2 column with 4\n",
        "b[0,2]=4"
      ],
      "metadata": {
        "id": "hvEuWLL2rJKK"
      },
      "execution_count": 15,
      "outputs": []
    },
    {
      "cell_type": "code",
      "source": [
        "b"
      ],
      "metadata": {
        "colab": {
          "base_uri": "https://localhost:8080/"
        },
        "id": "D9cgQQvzr-Oz",
        "outputId": "24652aa0-dd2c-46f3-bf00-17bc2d806852"
      },
      "execution_count": 16,
      "outputs": [
        {
          "output_type": "execute_result",
          "data": {
            "text/plain": [
              "array([[1, 2, 4]])"
            ]
          },
          "metadata": {},
          "execution_count": 16
        }
      ]
    },
    {
      "cell_type": "code",
      "source": [
        "# creating matrix\n",
        "z=np.array([[1,2,3],\n",
        "           [4,5,6],\n",
        "           [7,0,1]])\n",
        "z"
      ],
      "metadata": {
        "id": "bL-VSGbPsDHc",
        "colab": {
          "base_uri": "https://localhost:8080/"
        },
        "outputId": "dfe51450-d16c-473e-d361-f15fd54679aa"
      },
      "execution_count": 17,
      "outputs": [
        {
          "output_type": "execute_result",
          "data": {
            "text/plain": [
              "array([[1, 2, 3],\n",
              "       [4, 5, 6],\n",
              "       [7, 0, 1]])"
            ]
          },
          "metadata": {},
          "execution_count": 17
        }
      ]
    },
    {
      "cell_type": "code",
      "source": [
        "print(\"Shape of Martix --\",z.shape)\n",
        "z.dtype"
      ],
      "metadata": {
        "colab": {
          "base_uri": "https://localhost:8080/"
        },
        "id": "ZBo6tKufshOv",
        "outputId": "5446d355-0c56-4e89-c3d4-d973b849caad"
      },
      "execution_count": 18,
      "outputs": [
        {
          "output_type": "stream",
          "name": "stdout",
          "text": [
            "Shape of Martix -- (3, 3)\n"
          ]
        },
        {
          "output_type": "execute_result",
          "data": {
            "text/plain": [
              "dtype('int64')"
            ]
          },
          "metadata": {},
          "execution_count": 18
        }
      ]
    },
    {
      "cell_type": "code",
      "source": [
        "# total element\n",
        "z.size"
      ],
      "metadata": {
        "colab": {
          "base_uri": "https://localhost:8080/"
        },
        "id": "n39AHk36smsm",
        "outputId": "0502e5f9-44f3-420a-fe8f-5868823cd6b8"
      },
      "execution_count": 19,
      "outputs": [
        {
          "output_type": "execute_result",
          "data": {
            "text/plain": [
              "9"
            ]
          },
          "metadata": {},
          "execution_count": 19
        }
      ]
    },
    {
      "cell_type": "code",
      "source": [
        "# Transpose the Matrix\n",
        "z.T"
      ],
      "metadata": {
        "colab": {
          "base_uri": "https://localhost:8080/"
        },
        "id": "xU8hT9i7sn7L",
        "outputId": "914b7960-34be-4554-df0a-9d2f2acf7eb5"
      },
      "execution_count": 20,
      "outputs": [
        {
          "output_type": "execute_result",
          "data": {
            "text/plain": [
              "array([[1, 4, 7],\n",
              "       [2, 5, 0],\n",
              "       [3, 6, 1]])"
            ]
          },
          "metadata": {},
          "execution_count": 20
        }
      ]
    },
    {
      "cell_type": "code",
      "source": [
        "x=np.array([[1,6,3],\n",
        "           [4,5,9],\n",
        "           [7,9,9]])"
      ],
      "metadata": {
        "id": "KT37nj6-suvl"
      },
      "execution_count": 21,
      "outputs": []
    },
    {
      "cell_type": "code",
      "source": [
        "# Addition of 2 matix\n",
        "z+x"
      ],
      "metadata": {
        "colab": {
          "base_uri": "https://localhost:8080/"
        },
        "id": "rGCywrSCs4k-",
        "outputId": "3bfb353f-fa50-4e5c-eadb-eecf77af705b"
      },
      "execution_count": 22,
      "outputs": [
        {
          "output_type": "execute_result",
          "data": {
            "text/plain": [
              "array([[ 2,  8,  6],\n",
              "       [ 8, 10, 15],\n",
              "       [14,  9, 10]])"
            ]
          },
          "metadata": {},
          "execution_count": 22
        }
      ]
    },
    {
      "cell_type": "code",
      "source": [
        "# Simple Multipliation of Matrix\n",
        "z*x"
      ],
      "metadata": {
        "colab": {
          "base_uri": "https://localhost:8080/"
        },
        "id": "D2SdqzTZs6TN",
        "outputId": "8434f398-d3f6-4c35-c217-80a524c6b1a4"
      },
      "execution_count": 23,
      "outputs": [
        {
          "output_type": "execute_result",
          "data": {
            "text/plain": [
              "array([[ 1, 12,  9],\n",
              "       [16, 25, 54],\n",
              "       [49,  0,  9]])"
            ]
          },
          "metadata": {},
          "execution_count": 23
        }
      ]
    },
    {
      "cell_type": "code",
      "source": [
        "# matrix multiplication of 2 array\n",
        "np.matmul(x,z)"
      ],
      "metadata": {
        "colab": {
          "base_uri": "https://localhost:8080/"
        },
        "id": "F7UbQ_hreQME",
        "outputId": "bdb63a77-0211-4182-dae0-2403db8db45e"
      },
      "execution_count": 24,
      "outputs": [
        {
          "output_type": "execute_result",
          "data": {
            "text/plain": [
              "array([[ 46,  32,  42],\n",
              "       [ 87,  33,  51],\n",
              "       [106,  59,  84]])"
            ]
          },
          "metadata": {},
          "execution_count": 24
        }
      ]
    },
    {
      "cell_type": "code",
      "source": [
        "# or we can use this also for matrix multiplication\n",
        "x.dot(z)"
      ],
      "metadata": {
        "colab": {
          "base_uri": "https://localhost:8080/"
        },
        "id": "RhzLdkuHep3B",
        "outputId": "35574d43-f297-4aa0-cb69-3becafb843c7"
      },
      "execution_count": 25,
      "outputs": [
        {
          "output_type": "execute_result",
          "data": {
            "text/plain": [
              "array([[ 46,  32,  42],\n",
              "       [ 87,  33,  51],\n",
              "       [106,  59,  84]])"
            ]
          },
          "metadata": {},
          "execution_count": 25
        }
      ]
    },
    {
      "cell_type": "code",
      "source": [
        "# creating a 2d numpy marix with 0 value that contain 3 rows and 3 columns\n",
        "a=np.zeros((3,3))\n",
        "a"
      ],
      "metadata": {
        "id": "YA8lngp3s8KA",
        "colab": {
          "base_uri": "https://localhost:8080/"
        },
        "outputId": "af784216-009d-42cc-9a15-1fbc9036a314"
      },
      "execution_count": 26,
      "outputs": [
        {
          "output_type": "execute_result",
          "data": {
            "text/plain": [
              "array([[0., 0., 0.],\n",
              "       [0., 0., 0.],\n",
              "       [0., 0., 0.]])"
            ]
          },
          "metadata": {},
          "execution_count": 26
        }
      ]
    },
    {
      "cell_type": "code",
      "source": [
        "# creating a 2d numpy marix with 1 value that contain 3 rows and 3 columns\n",
        "a=np.ones((3,3))\n",
        "a"
      ],
      "metadata": {
        "id": "ZKxpXBgTukq-",
        "colab": {
          "base_uri": "https://localhost:8080/"
        },
        "outputId": "b87262ad-53bb-4bcc-f358-bd61d807c2fb"
      },
      "execution_count": 27,
      "outputs": [
        {
          "output_type": "execute_result",
          "data": {
            "text/plain": [
              "array([[1., 1., 1.],\n",
              "       [1., 1., 1.],\n",
              "       [1., 1., 1.]])"
            ]
          },
          "metadata": {},
          "execution_count": 27
        }
      ]
    },
    {
      "cell_type": "code",
      "source": [
        "# creating a array in the ranfe of (1,11) having gap of 2\n",
        "np.arange(1,11,2)"
      ],
      "metadata": {
        "colab": {
          "base_uri": "https://localhost:8080/"
        },
        "id": "2fUeXxWFu5eh",
        "outputId": "b8462715-b987-4dfa-a877-5b2f02895fd7"
      },
      "execution_count": 28,
      "outputs": [
        {
          "output_type": "execute_result",
          "data": {
            "text/plain": [
              "array([1, 3, 5, 7, 9])"
            ]
          },
          "metadata": {},
          "execution_count": 28
        }
      ]
    },
    {
      "cell_type": "code",
      "source": [
        "# linspace is a NumPy function that returns evenly spaced numbers over a specified interval.\n",
        "#  It takes three arguments: start, stop, and num\n",
        "\n",
        "a=np.linspace(1,10,20)\n",
        "a\n"
      ],
      "metadata": {
        "id": "v86-MUE4vTSL",
        "colab": {
          "base_uri": "https://localhost:8080/"
        },
        "outputId": "2f772542-f9dd-4f93-afed-10ce16c8adf0"
      },
      "execution_count": 29,
      "outputs": [
        {
          "output_type": "execute_result",
          "data": {
            "text/plain": [
              "array([ 1.        ,  1.47368421,  1.94736842,  2.42105263,  2.89473684,\n",
              "        3.36842105,  3.84210526,  4.31578947,  4.78947368,  5.26315789,\n",
              "        5.73684211,  6.21052632,  6.68421053,  7.15789474,  7.63157895,\n",
              "        8.10526316,  8.57894737,  9.05263158,  9.52631579, 10.        ])"
            ]
          },
          "metadata": {},
          "execution_count": 29
        }
      ]
    },
    {
      "cell_type": "code",
      "source": [
        "# np.empty is a NumPy function that creates an uninitialized array of specified shape and data type\n",
        "c=np.empty((4,4))\n",
        "c"
      ],
      "metadata": {
        "id": "Uk3QV8LQvbwt",
        "colab": {
          "base_uri": "https://localhost:8080/"
        },
        "outputId": "575de956-761b-4b01-f531-b6fb4faf2cf9"
      },
      "execution_count": 30,
      "outputs": [
        {
          "output_type": "execute_result",
          "data": {
            "text/plain": [
              "array([[ 1.13947652e-313,  0.00000000e+000,  3.00000000e+000,\n",
              "         1.00000000e+000],\n",
              "       [ 1.00000000e+000,  1.00000000e+000,  1.00000000e+000,\n",
              "         3.00000000e+000],\n",
              "       [-1.00000000e+000,  3.00000000e+000, -1.00000000e+000,\n",
              "         1.00000000e+000],\n",
              "       [-3.00000000e+000,  1.00000000e+000, -3.00000000e+000,\n",
              "         0.00000000e+000]])"
            ]
          },
          "metadata": {},
          "execution_count": 30
        }
      ]
    },
    {
      "cell_type": "code",
      "source": [
        "c[0,2]=5656657\n",
        "print(\"Dtype is \",c.dtype)\n",
        "c"
      ],
      "metadata": {
        "colab": {
          "base_uri": "https://localhost:8080/"
        },
        "id": "m6u4XKPSv_-0",
        "outputId": "553d5a0f-1f29-4280-922a-24860102167d"
      },
      "execution_count": 31,
      "outputs": [
        {
          "output_type": "stream",
          "name": "stdout",
          "text": [
            "Dtype is  float64\n"
          ]
        },
        {
          "output_type": "execute_result",
          "data": {
            "text/plain": [
              "array([[ 1.13947652e-313,  0.00000000e+000,  5.65665700e+006,\n",
              "         1.00000000e+000],\n",
              "       [ 1.00000000e+000,  1.00000000e+000,  1.00000000e+000,\n",
              "         3.00000000e+000],\n",
              "       [-1.00000000e+000,  3.00000000e+000, -1.00000000e+000,\n",
              "         1.00000000e+000],\n",
              "       [-3.00000000e+000,  1.00000000e+000, -3.00000000e+000,\n",
              "         0.00000000e+000]])"
            ]
          },
          "metadata": {},
          "execution_count": 31
        }
      ]
    },
    {
      "cell_type": "code",
      "source": [
        "# crating a array with diagonal value as 1 and other values as 0\n",
        "np.identity((5))"
      ],
      "metadata": {
        "colab": {
          "base_uri": "https://localhost:8080/"
        },
        "id": "j5r1asimwIes",
        "outputId": "b2e5a24b-8322-4e8a-bff1-36f06a2de605"
      },
      "execution_count": 32,
      "outputs": [
        {
          "output_type": "execute_result",
          "data": {
            "text/plain": [
              "array([[1., 0., 0., 0., 0.],\n",
              "       [0., 1., 0., 0., 0.],\n",
              "       [0., 0., 1., 0., 0.],\n",
              "       [0., 0., 0., 1., 0.],\n",
              "       [0., 0., 0., 0., 1.]])"
            ]
          },
          "metadata": {},
          "execution_count": 32
        }
      ]
    },
    {
      "cell_type": "code",
      "source": [
        "# creeating a array in the range of 0 to 66\n",
        "k=np.arange(66)\n",
        "k"
      ],
      "metadata": {
        "id": "vkKIK9AbxK3Y",
        "colab": {
          "base_uri": "https://localhost:8080/"
        },
        "outputId": "c91ad295-3460-450f-eaa0-55710901522e"
      },
      "execution_count": 33,
      "outputs": [
        {
          "output_type": "execute_result",
          "data": {
            "text/plain": [
              "array([ 0,  1,  2,  3,  4,  5,  6,  7,  8,  9, 10, 11, 12, 13, 14, 15, 16,\n",
              "       17, 18, 19, 20, 21, 22, 23, 24, 25, 26, 27, 28, 29, 30, 31, 32, 33,\n",
              "       34, 35, 36, 37, 38, 39, 40, 41, 42, 43, 44, 45, 46, 47, 48, 49, 50,\n",
              "       51, 52, 53, 54, 55, 56, 57, 58, 59, 60, 61, 62, 63, 64, 65])"
            ]
          },
          "metadata": {},
          "execution_count": 33
        }
      ]
    },
    {
      "cell_type": "code",
      "source": [
        "# reshape method in NumPy can be used to change the shape of an array to any desired shape as long as the total number of elements remains the same.\n",
        "before=k.reshape((3,22))\n",
        "\n",
        "# ravel is a function in NumPy that returns a flattened 1D array version of the input array.\n",
        "after =k.ravel()"
      ],
      "metadata": {
        "id": "Qh-5M2oaxg6k"
      },
      "execution_count": 34,
      "outputs": []
    },
    {
      "cell_type": "code",
      "source": [
        "print(\"\"\"Before Flattened\"\"\",before)\n",
        "\n",
        "print(90*\"-\")\n",
        "\n",
        "print(\"\"\"After Flattened\"\"\",after)\n"
      ],
      "metadata": {
        "colab": {
          "base_uri": "https://localhost:8080/"
        },
        "id": "ZeLXV-7sxm3v",
        "outputId": "12aae8e5-1713-4280-8742-e3e3cb826bd8"
      },
      "execution_count": 35,
      "outputs": [
        {
          "output_type": "stream",
          "name": "stdout",
          "text": [
            "Before Flattened [[ 0  1  2  3  4  5  6  7  8  9 10 11 12 13 14 15 16 17 18 19 20 21]\n",
            " [22 23 24 25 26 27 28 29 30 31 32 33 34 35 36 37 38 39 40 41 42 43]\n",
            " [44 45 46 47 48 49 50 51 52 53 54 55 56 57 58 59 60 61 62 63 64 65]]\n",
            "------------------------------------------------------------------------------------------\n",
            "After Flattened [ 0  1  2  3  4  5  6  7  8  9 10 11 12 13 14 15 16 17 18 19 20 21 22 23\n",
            " 24 25 26 27 28 29 30 31 32 33 34 35 36 37 38 39 40 41 42 43 44 45 46 47\n",
            " 48 49 50 51 52 53 54 55 56 57 58 59 60 61 62 63 64 65]\n"
          ]
        }
      ]
    },
    {
      "cell_type": "code",
      "source": [
        "print(\"\"\"Matirx z :\n",
        "\"\"\",z)\n",
        "print(\"\"\"Matirx x :\n",
        "\"\"\",x)"
      ],
      "metadata": {
        "colab": {
          "base_uri": "https://localhost:8080/"
        },
        "id": "aUIa1WIjyAe5",
        "outputId": "3c91fb74-f4e2-4997-ebd2-351d4c64c61f"
      },
      "execution_count": 36,
      "outputs": [
        {
          "output_type": "stream",
          "name": "stdout",
          "text": [
            "Matirx z :\n",
            " [[1 2 3]\n",
            " [4 5 6]\n",
            " [7 0 1]]\n",
            "Matirx x :\n",
            " [[1 6 3]\n",
            " [4 5 9]\n",
            " [7 9 9]]\n"
          ]
        }
      ]
    },
    {
      "cell_type": "code",
      "source": [
        "# sum @ axis =0\n",
        "z.sum(axis=0)"
      ],
      "metadata": {
        "colab": {
          "base_uri": "https://localhost:8080/"
        },
        "id": "HWrHEuuwyMEo",
        "outputId": "5dfa96af-d509-4983-9129-993fbaa91b92"
      },
      "execution_count": 37,
      "outputs": [
        {
          "output_type": "execute_result",
          "data": {
            "text/plain": [
              "array([12,  7, 10])"
            ]
          },
          "metadata": {},
          "execution_count": 37
        }
      ]
    },
    {
      "cell_type": "code",
      "source": [
        "x.sum(axis=0)"
      ],
      "metadata": {
        "colab": {
          "base_uri": "https://localhost:8080/"
        },
        "id": "eweFHpE5yTSW",
        "outputId": "dcfa601d-c225-4241-fd7f-2b7b415f064b"
      },
      "execution_count": 38,
      "outputs": [
        {
          "output_type": "execute_result",
          "data": {
            "text/plain": [
              "array([12, 20, 21])"
            ]
          },
          "metadata": {},
          "execution_count": 38
        }
      ]
    },
    {
      "cell_type": "code",
      "source": [
        "# sum @ axis =1\n",
        "x.sum(axis=1)"
      ],
      "metadata": {
        "colab": {
          "base_uri": "https://localhost:8080/"
        },
        "id": "JXiV_kx2yb6u",
        "outputId": "5da7c941-1728-41af-93c9-4720d1db09e3"
      },
      "execution_count": 39,
      "outputs": [
        {
          "output_type": "execute_result",
          "data": {
            "text/plain": [
              "array([10, 18, 25])"
            ]
          },
          "metadata": {},
          "execution_count": 39
        }
      ]
    },
    {
      "cell_type": "code",
      "source": [
        "z.sum(axis=1)"
      ],
      "metadata": {
        "colab": {
          "base_uri": "https://localhost:8080/"
        },
        "id": "jDhYhmL-yfKT",
        "outputId": "b9f80992-4c44-47c3-b1eb-ce78f62c6800"
      },
      "execution_count": 40,
      "outputs": [
        {
          "output_type": "execute_result",
          "data": {
            "text/plain": [
              "array([ 6, 15,  8])"
            ]
          },
          "metadata": {},
          "execution_count": 40
        }
      ]
    },
    {
      "cell_type": "code",
      "source": [
        "np.sqrt(z)"
      ],
      "metadata": {
        "colab": {
          "base_uri": "https://localhost:8080/"
        },
        "id": "hSbXQNKJzG9w",
        "outputId": "c2a78aa2-5a66-4cbe-a57d-2ffe27037bb1"
      },
      "execution_count": 41,
      "outputs": [
        {
          "output_type": "execute_result",
          "data": {
            "text/plain": [
              "array([[1.        , 1.41421356, 1.73205081],\n",
              "       [2.        , 2.23606798, 2.44948974],\n",
              "       [2.64575131, 0.        , 1.        ]])"
            ]
          },
          "metadata": {},
          "execution_count": 41
        }
      ]
    },
    {
      "cell_type": "code",
      "source": [
        "z.min()"
      ],
      "metadata": {
        "colab": {
          "base_uri": "https://localhost:8080/"
        },
        "id": "-70tFaA0zcUN",
        "outputId": "4d92f3ef-d6e5-4091-87e6-f0eca8a4e714"
      },
      "execution_count": 42,
      "outputs": [
        {
          "output_type": "execute_result",
          "data": {
            "text/plain": [
              "0"
            ]
          },
          "metadata": {},
          "execution_count": 42
        }
      ]
    },
    {
      "cell_type": "code",
      "source": [
        "z.max()"
      ],
      "metadata": {
        "colab": {
          "base_uri": "https://localhost:8080/"
        },
        "id": "YjcXFuQYzi2y",
        "outputId": "c91b56c5-bc84-4436-9ab3-04277e437c11"
      },
      "execution_count": 43,
      "outputs": [
        {
          "output_type": "execute_result",
          "data": {
            "text/plain": [
              "7"
            ]
          },
          "metadata": {},
          "execution_count": 43
        }
      ]
    },
    {
      "cell_type": "code",
      "source": [
        "z.T"
      ],
      "metadata": {
        "colab": {
          "base_uri": "https://localhost:8080/"
        },
        "id": "R_8jT0gjzkoO",
        "outputId": "27f63dd3-352c-4a22-fd1b-a439320a84f7"
      },
      "execution_count": 44,
      "outputs": [
        {
          "output_type": "execute_result",
          "data": {
            "text/plain": [
              "array([[1, 4, 7],\n",
              "       [2, 5, 0],\n",
              "       [3, 6, 1]])"
            ]
          },
          "metadata": {},
          "execution_count": 44
        }
      ]
    },
    {
      "cell_type": "code",
      "source": [
        "z.sort()\n",
        "z"
      ],
      "metadata": {
        "id": "EMkoIUuAzl5q",
        "colab": {
          "base_uri": "https://localhost:8080/"
        },
        "outputId": "843bff0e-b226-4781-e173-a156d2696598"
      },
      "execution_count": 45,
      "outputs": [
        {
          "output_type": "execute_result",
          "data": {
            "text/plain": [
              "array([[1, 2, 3],\n",
              "       [4, 5, 6],\n",
              "       [0, 1, 7]])"
            ]
          },
          "metadata": {},
          "execution_count": 45
        }
      ]
    },
    {
      "cell_type": "code",
      "source": [
        "import  numpy as np\n",
        "\n",
        "\n",
        "l=[]\n",
        "m=[]\n",
        "n=[]\n",
        "print(\" FOR MATRIX 1\")\n",
        "print(\"-\"*10)\n",
        "for i in range(0,3):\n",
        "  a=int(input(f\"enter for {i} array of first row :\"))\n",
        "  l.append(a)\n",
        "for j in range(0,3):\n",
        "  b=int(input(f\"enter for {j} array of second row:\"))\n",
        "  m.append(b)\n",
        "for k in range(0,3):\n",
        "  c=int(input(f\"enter for {k} array of third row:\"))\n",
        "  n.append(c)\n",
        "r=[l,m,n]\n",
        "arr=np.array(r)\n",
        "print(arr)\n",
        "\n",
        "x=[]\n",
        "y=[]\n",
        "z=[]\n",
        "print(80*\"-\")\n",
        "print(\" FOR MATRIX 2\")\n",
        "print(\"-\"*10)\n",
        "for i in range(0,3):\n",
        "  o=int(input(f\"enter  for {i} array first row :\"))\n",
        "  x.append(o)\n",
        "for j in range(0,3):\n",
        "  p=int(input(f\"enter  for {j} array second row:\"))\n",
        "  y.append(p)\n",
        "for k in range(0,3):\n",
        "  q=int(input(f\"enter  for {k} array third row::\"))\n",
        "  z.append(q)\n",
        "s=[x,y,z]\n",
        "print(50*\"-\")\n",
        "mrr=np.array(s)\n",
        "print(mrr)\n",
        "\n",
        "print(\"=\"*50)\n",
        "print(f\"sum of two array is \\n  {arr+mrr}\")\n",
        "print(50*\"-\")\n",
        "print(f\" Matrix multiplication of two array is \\n  {arr.dot(mrr)}\")\n",
        "\n",
        "\n",
        "\n"
      ],
      "metadata": {
        "colab": {
          "base_uri": "https://localhost:8080/"
        },
        "id": "CTmKJZblz6pm",
        "outputId": "990fa048-ce15-468e-ab7a-667e23f11d38"
      },
      "execution_count": 46,
      "outputs": [
        {
          "output_type": "stream",
          "name": "stdout",
          "text": [
            " FOR MATRIX 1\n",
            "----------\n",
            "enter for 0 array of first row :1\n",
            "enter for 1 array of first row :2\n",
            "enter for 2 array of first row :3\n",
            "enter for 0 array of second row:4\n",
            "enter for 1 array of second row:5\n",
            "enter for 2 array of second row:6\n",
            "enter for 0 array of third row:7\n",
            "enter for 1 array of third row:8\n",
            "enter for 2 array of third row:9\n",
            "[[1 2 3]\n",
            " [4 5 6]\n",
            " [7 8 9]]\n",
            "--------------------------------------------------------------------------------\n",
            " FOR MATRIX 2\n",
            "----------\n",
            "enter  for 0 array first row :9\n",
            "enter  for 1 array first row :8\n",
            "enter  for 2 array first row :7\n",
            "enter  for 0 array second row:6\n",
            "enter  for 1 array second row:5\n",
            "enter  for 2 array second row:4\n",
            "enter  for 0 array third row::3\n",
            "enter  for 1 array third row::2\n",
            "enter  for 2 array third row::1\n",
            "--------------------------------------------------\n",
            "[[9 8 7]\n",
            " [6 5 4]\n",
            " [3 2 1]]\n",
            "==================================================\n",
            "sum of two array is \n",
            "  [[10 10 10]\n",
            " [10 10 10]\n",
            " [10 10 10]]\n",
            "--------------------------------------------------\n",
            " Matrix multiplication of two array is \n",
            "  [[ 30  24  18]\n",
            " [ 84  69  54]\n",
            " [138 114  90]]\n"
          ]
        }
      ]
    },
    {
      "cell_type": "code",
      "source": [
        "# creating 2 d array using ndmin\n",
        "a=np.array([1,2,3,4,5],ndmin=2)\n",
        "print(a)\n",
        "a.ndim"
      ],
      "metadata": {
        "id": "sXCPcj1x7m_J",
        "colab": {
          "base_uri": "https://localhost:8080/"
        },
        "outputId": "e96bca96-441e-48aa-fbd3-e5d7ea107299"
      },
      "execution_count": 47,
      "outputs": [
        {
          "output_type": "stream",
          "name": "stdout",
          "text": [
            "[[1 2 3 4 5]]\n"
          ]
        },
        {
          "output_type": "execute_result",
          "data": {
            "text/plain": [
              "2"
            ]
          },
          "metadata": {},
          "execution_count": 47
        }
      ]
    },
    {
      "cell_type": "code",
      "source": [
        "a=np.array([[1,2,3],\n",
        "            [2,3,4],\n",
        "            [3,4,5]])"
      ],
      "metadata": {
        "id": "TT5u32ZX8woQ"
      },
      "execution_count": 48,
      "outputs": []
    },
    {
      "cell_type": "code",
      "source": [
        "a"
      ],
      "metadata": {
        "colab": {
          "base_uri": "https://localhost:8080/"
        },
        "id": "dEEjz40f9BMR",
        "outputId": "5e23b3fa-fc80-4b02-caa3-6930622333ad"
      },
      "execution_count": 49,
      "outputs": [
        {
          "output_type": "execute_result",
          "data": {
            "text/plain": [
              "array([[1, 2, 3],\n",
              "       [2, 3, 4],\n",
              "       [3, 4, 5]])"
            ]
          },
          "metadata": {},
          "execution_count": 49
        }
      ]
    },
    {
      "cell_type": "code",
      "source": [
        "np.identity(4)"
      ],
      "metadata": {
        "colab": {
          "base_uri": "https://localhost:8080/"
        },
        "id": "ohRKip-A9Nfz",
        "outputId": "caed0986-d953-4eee-9dd1-a8d414fd7249"
      },
      "execution_count": 50,
      "outputs": [
        {
          "output_type": "execute_result",
          "data": {
            "text/plain": [
              "array([[1., 0., 0., 0.],\n",
              "       [0., 1., 0., 0.],\n",
              "       [0., 0., 1., 0.],\n",
              "       [0., 0., 0., 1.]])"
            ]
          },
          "metadata": {},
          "execution_count": 50
        }
      ]
    },
    {
      "cell_type": "code",
      "source": [
        "np.eye(4)"
      ],
      "metadata": {
        "colab": {
          "base_uri": "https://localhost:8080/"
        },
        "id": "KZnQB8mc9gTI",
        "outputId": "10dd2578-4c6d-40c2-d295-b52c23010e49"
      },
      "execution_count": 51,
      "outputs": [
        {
          "output_type": "execute_result",
          "data": {
            "text/plain": [
              "array([[1., 0., 0., 0.],\n",
              "       [0., 1., 0., 0.],\n",
              "       [0., 0., 1., 0.],\n",
              "       [0., 0., 0., 1.]])"
            ]
          },
          "metadata": {},
          "execution_count": 51
        }
      ]
    },
    {
      "cell_type": "code",
      "source": [
        "a=np.random.rand(4)\n",
        "a"
      ],
      "metadata": {
        "id": "9BUh6wQU9jni",
        "colab": {
          "base_uri": "https://localhost:8080/"
        },
        "outputId": "922ecd04-9886-4a68-9215-69dd5a2c8396"
      },
      "execution_count": 52,
      "outputs": [
        {
          "output_type": "execute_result",
          "data": {
            "text/plain": [
              "array([0.11174236, 0.82026014, 0.60117111, 0.80548585])"
            ]
          },
          "metadata": {},
          "execution_count": 52
        }
      ]
    }
  ]
}